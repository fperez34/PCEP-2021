{
 "cells": [
  {
   "cell_type": "markdown",
   "metadata": {},
   "source": [
    "## Exercises\n",
    "### Write the pseudocode for these problems. \n",
    "\n",
    "#### Define the problem by constructing an IPO diagram showing input, output, and processing steps\n",
    "Ask yourself\n",
    "- What control structures (sequence, selection and repetition) are required?\n",
    "- What variables are required?\n",
    "\n",
    "Show a check of your solution with **test data** for at least **two valid test cases**\n",
    "If you use the numbers provided in the example then the correct pseudocode will calculate the same result.\n",
    "    "
   ]
  },
  {
   "cell_type": "markdown",
   "metadata": {},
   "source": [
    "#### 1. Find the average score\n",
    "A program is needed to prompt the user operator for exam scores, calculate the average score and display the result to the screen. The average score is calculated as the sum of the scores divided by the number of scores."
   ]
  },
  {
   "cell_type": "markdown",
   "metadata": {},
   "source": [
    "Input: Exams scores\n",
    "\n",
    "Process:\n",
    "        BEGIN\n",
    "            ask user for exam scores\n",
    "            add up each exam score\n",
    "            total sum of scores / number of scores = average score\n",
    "        END\n",
    "        \n",
    "Output: average score\n",
    "        "
   ]
  },
  {
   "cell_type": "markdown",
   "metadata": {},
   "source": [
    "#### 2. How much water runs off a roof in a rain storm?\n",
    "To calculate the runoff from any given rainfall: Take the dimensions of the footprint of the roof and convert them to inches. (So, a 50' x 20' roof is 600\" x 240\"). Multiply the roof dimensions by the number of inches of rainfall. As an example, 600\" x 240\" x 1\" = 144,000 cubic inches of water for an inch of rainfall. Divide that result by 231 to get the number of gallons (because 1 gallon = 231 cubic inches). (144,000/231 = 623.38)."
   ]
  },
  {
   "cell_type": "markdown",
   "metadata": {},
   "source": [
    "Input: Roof dimensions and the number of inches of rainfall\n",
    "\n",
    "Process:\n",
    "        BEGIN\n",
    "            convert the roof dimensions from foot to inches\n",
    "            multiply the inch roof dimensions to the number of inches of rainfall = total cubcic inches of water\n",
    "            total cubic inches of water / 231 = number of gallons\n",
    "        END\n",
    "        \n",
    "Output: gallons of water that has run off a roof in a rain storm"
   ]
  },
  {
   "cell_type": "markdown",
   "metadata": {},
   "source": [
    "#### 3. Process customer record\n",
    "A program is required to read a customer’s name, a purchase amount and a tax code. The tax code has been validated and will be one of the following: 0 tax exempt (0%) 1 state sales tax only (3%) 2 federal and state sales tax (5%) 3 special sales tax (7%) The program must then compute the sales tax and the total amount due,and print the customer’s name, purchase amount, sales tax and total amount due."
   ]
  },
  {
   "cell_type": "markdown",
   "metadata": {},
   "source": [
    "Input: Customers name, purchase amount, and tax code\n",
    "\n",
    "Process:\n",
    "        BEGIN\n",
    "            get the right sales tax with the tax code\n",
    "            sales tax * purchase amount = total amount due\n",
    "            print customers name\n",
    "            print purchase amount\n",
    "            print sales tax\n",
    "            print total amount due\n",
    "        END\n",
    "        \n",
    "Output: print the customer’s name, purchase amount, sales tax and total amount due."
   ]
  },
  {
   "cell_type": "markdown",
   "metadata": {},
   "source": [
    "#### 4. Calculate employee's pay \n",
    "A program is required by a company to read an employee’s number, pay rate and the number of hours worked in a week. The program is then to validate the pay rate field and the hours worked field and, if valid, compute the employee’s weekly pay and then print it and the input data.\n",
    "\n",
    "Validation: According to the company’s rules, the maximum hours an employee can work per week is 60 hours, and the maximum hourly rate is $25.00 per hour. If the hours worked field or the hourly rate field is out of range, the input data and an appropriate message are to be printed and the employee’s weekly pay is not to be calculated.\n",
    "\n",
    "Weekly pay calculation: Weekly pay is calculated as hours worked times pay rate. If more than 35 hours are worked, payment for the overtime hours worked is calculated at time-and-a-half."
   ]
  },
  {
   "cell_type": "markdown",
   "metadata": {},
   "source": [
    "Input: employee number, pay rate, hours worked in a week\n",
    "\n",
    "Process:\n",
    "        BEGIN\n",
    "            if hours worked in a week > 60 OR pay rate > 25 per hours\n",
    "                print employee number, pay rate, hours worked in a week, \"pay cannot be calculated\"\n",
    "            if hours worked in a week > 35 AND <=60\n",
    "                hours worked - 35 = x\n",
    "                pay rate * 1.5 * x = overtime pay\n",
    "                35 * pay rate = regular work pay\n",
    "                overtime pay + regular work pay = total pay\n",
    "            else\n",
    "                pay rate * hours worked = total p\n",
    "        END\n",
    "        \n",
    "Output: print the customer’s name, purchase amount, sales tax and total amount due."
   ]
  }
 ],
 "metadata": {
  "kernelspec": {
   "display_name": "Python 3",
   "language": "python",
   "name": "python3"
  },
  "language_info": {
   "codemirror_mode": {
    "name": "ipython",
    "version": 3
   },
   "file_extension": ".py",
   "mimetype": "text/x-python",
   "name": "python",
   "nbconvert_exporter": "python",
   "pygments_lexer": "ipython3",
   "version": "3.8.8"
  }
 },
 "nbformat": 4,
 "nbformat_minor": 2
}
